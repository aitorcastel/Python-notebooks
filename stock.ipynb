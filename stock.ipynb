{
  "nbformat": 4,
  "nbformat_minor": 0,
  "metadata": {
    "colab": {
      "name": "stock.ipynb",
      "provenance": [],
      "collapsed_sections": []
    },
    "kernelspec": {
      "name": "python3",
      "display_name": "Python 3"
    }
  },
  "cells": [
    {
      "cell_type": "markdown",
      "metadata": {
        "id": "GzEYSn1-LutP",
        "colab_type": "text"
      },
      "source": [
        "**tutorial sobre prediccion de stocks en python3 usando modelos de machine learning**"
      ]
    },
    {
      "cell_type": "code",
      "metadata": {
        "id": "HkBAuxh6Llsv",
        "colab_type": "code",
        "colab": {
          "base_uri": "https://localhost:8080/",
          "height": 366
        },
        "outputId": "615946a8-b4b8-4c00-e3bc-5b5d8a274fc6"
      },
      "source": [
        "pip install quandl"
      ],
      "execution_count": 81,
      "outputs": [
        {
          "output_type": "stream",
          "text": [
            "Requirement already satisfied: quandl in /usr/local/lib/python3.6/dist-packages (3.4.8)\n",
            "Requirement already satisfied: numpy>=1.8 in /usr/local/lib/python3.6/dist-packages (from quandl) (1.17.4)\n",
            "Requirement already satisfied: more-itertools<=5.0.0 in /usr/local/lib/python3.6/dist-packages (from quandl) (5.0.0)\n",
            "Requirement already satisfied: pyasn1 in /usr/local/lib/python3.6/dist-packages (from quandl) (0.4.8)\n",
            "Requirement already satisfied: python-dateutil in /usr/local/lib/python3.6/dist-packages (from quandl) (2.6.1)\n",
            "Requirement already satisfied: six in /usr/local/lib/python3.6/dist-packages (from quandl) (1.12.0)\n",
            "Requirement already satisfied: pyOpenSSL in /usr/local/lib/python3.6/dist-packages (from quandl) (19.1.0)\n",
            "Requirement already satisfied: ndg-httpsclient in /usr/local/lib/python3.6/dist-packages (from quandl) (0.5.1)\n",
            "Requirement already satisfied: inflection>=0.3.1 in /usr/local/lib/python3.6/dist-packages (from quandl) (0.3.1)\n",
            "Requirement already satisfied: pandas>=0.14 in /usr/local/lib/python3.6/dist-packages (from quandl) (0.25.3)\n",
            "Requirement already satisfied: requests>=2.7.0 in /usr/local/lib/python3.6/dist-packages (from quandl) (2.21.0)\n",
            "Requirement already satisfied: cryptography>=2.8 in /usr/local/lib/python3.6/dist-packages (from pyOpenSSL->quandl) (2.8)\n",
            "Requirement already satisfied: pytz>=2017.2 in /usr/local/lib/python3.6/dist-packages (from pandas>=0.14->quandl) (2018.9)\n",
            "Requirement already satisfied: urllib3<1.25,>=1.21.1 in /usr/local/lib/python3.6/dist-packages (from requests>=2.7.0->quandl) (1.24.3)\n",
            "Requirement already satisfied: idna<2.9,>=2.5 in /usr/local/lib/python3.6/dist-packages (from requests>=2.7.0->quandl) (2.8)\n",
            "Requirement already satisfied: chardet<3.1.0,>=3.0.2 in /usr/local/lib/python3.6/dist-packages (from requests>=2.7.0->quandl) (3.0.4)\n",
            "Requirement already satisfied: certifi>=2017.4.17 in /usr/local/lib/python3.6/dist-packages (from requests>=2.7.0->quandl) (2019.11.28)\n",
            "Requirement already satisfied: cffi!=1.11.3,>=1.8 in /usr/local/lib/python3.6/dist-packages (from cryptography>=2.8->pyOpenSSL->quandl) (1.13.2)\n",
            "Requirement already satisfied: pycparser in /usr/local/lib/python3.6/dist-packages (from cffi!=1.11.3,>=1.8->cryptography>=2.8->pyOpenSSL->quandl) (2.19)\n"
          ],
          "name": "stdout"
        }
      ]
    },
    {
      "cell_type": "code",
      "metadata": {
        "id": "HRRIdyp4L_EB",
        "colab_type": "code",
        "colab": {}
      },
      "source": [
        "# This program predicts stock prices using maching learning models\n",
        "\n",
        "# install depencies\n",
        "\n",
        "import quandl # https://www.quandl.com/tools/python\n",
        "import numpy as np\n",
        "from sklearn.linear_model import LinearRegression\n",
        "from sklearn.svm import SVR\n",
        "from sklearn.model_selection import train_test_split"
      ],
      "execution_count": 0,
      "outputs": []
    },
    {
      "cell_type": "code",
      "metadata": {
        "id": "dJK3tXFoMgYe",
        "colab_type": "code",
        "outputId": "b3ff6596-1553-4fa2-ea94-7fc5316aadb3",
        "colab": {
          "base_uri": "https://localhost:8080/",
          "height": 182
        }
      },
      "source": [
        "# get the stock data\n",
        "\n",
        "df = quandl.get(\"WIKI/AMZN\")\n",
        "\n",
        "# take a look at the data\n",
        "print(df.head())"
      ],
      "execution_count": 83,
      "outputs": [
        {
          "output_type": "stream",
          "text": [
            "             Open   High    Low  ...  Adj. Low  Adj. Close  Adj. Volume\n",
            "Date                             ...                                   \n",
            "1997-05-16  22.38  23.75  20.50  ...  1.708333    1.729167   14700000.0\n",
            "1997-05-19  20.50  21.25  19.50  ...  1.625000    1.708333    6106800.0\n",
            "1997-05-20  20.75  21.00  19.63  ...  1.635833    1.635833    5467200.0\n",
            "1997-05-21  19.25  19.75  16.50  ...  1.375000    1.427500   18853200.0\n",
            "1997-05-22  17.25  17.38  15.75  ...  1.312500    1.395833   11776800.0\n",
            "\n",
            "[5 rows x 12 columns]\n"
          ],
          "name": "stdout"
        }
      ]
    },
    {
      "cell_type": "code",
      "metadata": {
        "id": "9dvFRU5_NI4H",
        "colab_type": "code",
        "outputId": "b177ab58-99f7-42df-b0b3-96f05c9e481f",
        "colab": {
          "base_uri": "https://localhost:8080/",
          "height": 146
        }
      },
      "source": [
        "# get adjusted close price\n",
        "df = df[['Adj. Close']]\n",
        "\n",
        "# take a llot at the new data\n",
        "print(df.head())"
      ],
      "execution_count": 84,
      "outputs": [
        {
          "output_type": "stream",
          "text": [
            "            Adj. Close\n",
            "Date                  \n",
            "1997-05-16    1.729167\n",
            "1997-05-19    1.708333\n",
            "1997-05-20    1.635833\n",
            "1997-05-21    1.427500\n",
            "1997-05-22    1.395833\n"
          ],
          "name": "stdout"
        }
      ]
    },
    {
      "cell_type": "code",
      "metadata": {
        "id": "kFdOQCvSNftS",
        "colab_type": "code",
        "outputId": "0c1aa867-552c-4faa-c51a-44fc5ae198dc",
        "colab": {
          "base_uri": "https://localhost:8080/",
          "height": 329
        }
      },
      "source": [
        "# a variable for predicting 'n' days out into future\n",
        "forecast_out = 30\n",
        "\n",
        "# create another column ( the target or dependent variable ) shifted 'n' units up\n",
        "df['Prediction'] = df[['Adj. Close']].shift(-forecast_out)\n",
        "\n",
        "# print the new data set\n",
        "print(\"[i] Head \" +\"-\"*35)\n",
        "print(df.head())\n",
        "print(\"\\n[i] Tail \" +\"-\"*35)\n",
        "print(df.tail())"
      ],
      "execution_count": 85,
      "outputs": [
        {
          "output_type": "stream",
          "text": [
            "[i] Head -----------------------------------\n",
            "            Adj. Close  Prediction\n",
            "Date                              \n",
            "1997-05-16    1.729167    1.541667\n",
            "1997-05-19    1.708333    1.515833\n",
            "1997-05-20    1.635833    1.588333\n",
            "1997-05-21    1.427500    1.911667\n",
            "1997-05-22    1.395833    2.000000\n",
            "\n",
            "[i] Tail -----------------------------------\n",
            "            Adj. Close  Prediction\n",
            "Date                              \n",
            "2018-03-21     1581.86         NaN\n",
            "2018-03-22     1544.10         NaN\n",
            "2018-03-23     1495.56         NaN\n",
            "2018-03-26     1555.86         NaN\n",
            "2018-03-27     1497.05         NaN\n"
          ],
          "name": "stdout"
        }
      ]
    },
    {
      "cell_type": "code",
      "metadata": {
        "id": "Fl_Sth8-PmZ_",
        "colab_type": "code",
        "outputId": "21993526-f1bb-4f54-f6c4-b3cdd585ca85",
        "colab": {
          "base_uri": "https://localhost:8080/",
          "height": 146
        }
      },
      "source": [
        "### create the indepent data set (X) ####\n",
        "\n",
        "# convert the dataframe to a numpy array\n",
        "X = np.array(df.drop(['Prediction'],1))\n",
        "\n",
        "# remove the last 'n' rows \n",
        "X = X[:-forecast_out]\n",
        "print(X)"
      ],
      "execution_count": 86,
      "outputs": [
        {
          "output_type": "stream",
          "text": [
            "[[   1.72916667]\n",
            " [   1.70833333]\n",
            " [   1.63583333]\n",
            " ...\n",
            " [1350.47      ]\n",
            " [1338.99      ]\n",
            " [1386.23      ]]\n"
          ],
          "name": "stdout"
        }
      ]
    },
    {
      "cell_type": "code",
      "metadata": {
        "id": "MXhRKehWQZQR",
        "colab_type": "code",
        "outputId": "cc82e6c9-b182-4b56-e961-68b3b3a2f011",
        "colab": {
          "base_uri": "https://localhost:8080/",
          "height": 54
        }
      },
      "source": [
        "### create the dependent data set (y) ###\n",
        "# convert the dataframe to a numpy array ( All of the values includding the NaN`s )\n",
        "y = np.array(df['Prediction'])\n",
        "\n",
        "# get all of the y values except the last 'n' rows\n",
        "y = y[:-forecast_out]\n",
        "print(y)"
      ],
      "execution_count": 87,
      "outputs": [
        {
          "output_type": "stream",
          "text": [
            "[1.54166667e+00 1.51583333e+00 1.58833333e+00 ... 1.49556000e+03\n",
            " 1.55586000e+03 1.49705000e+03]\n"
          ],
          "name": "stdout"
        }
      ]
    },
    {
      "cell_type": "code",
      "metadata": {
        "id": "QbEu4irDUfFq",
        "colab_type": "code",
        "colab": {}
      },
      "source": [
        "# slipt the data into 80% training and 20% testing\n",
        "x_train, x_test, y_train, y_test = train_test_split(X, y, test_size=0.2)"
      ],
      "execution_count": 0,
      "outputs": []
    },
    {
      "cell_type": "code",
      "metadata": {
        "id": "a2zg6L9pVapX",
        "colab_type": "code",
        "colab": {
          "base_uri": "https://localhost:8080/",
          "height": 54
        },
        "outputId": "2b5f266e-2ff0-4cd1-a70d-3686bf333c4f"
      },
      "source": [
        "# create and train the support vector machine ( regressor )\n",
        "svr_rbf = SVR(kernel='rbf', C=1e3, gamma=0.1)\n",
        "svr_rbf.fit(x_train, y_train)"
      ],
      "execution_count": 89,
      "outputs": [
        {
          "output_type": "execute_result",
          "data": {
            "text/plain": [
              "SVR(C=1000.0, cache_size=200, coef0=0.0, degree=3, epsilon=0.1, gamma=0.1,\n",
              "    kernel='rbf', max_iter=-1, shrinking=True, tol=0.001, verbose=False)"
            ]
          },
          "metadata": {
            "tags": []
          },
          "execution_count": 89
        }
      ]
    },
    {
      "cell_type": "code",
      "metadata": {
        "id": "brABj7T3V-Qs",
        "colab_type": "code",
        "colab": {
          "base_uri": "https://localhost:8080/",
          "height": 35
        },
        "outputId": "aad1c6ce-04ca-4e70-e754-a65cbe8b2c81"
      },
      "source": [
        "# testing model: score returns the coefficient of determination R^2 of the prediction\n",
        "# the best possible score is 1.0\n",
        "\n",
        "svm_confidence = svr_rbf.score(x_test, y_test)\n",
        "print(\"[i] svm confidence: \", svm_confidence)"
      ],
      "execution_count": 90,
      "outputs": [
        {
          "output_type": "stream",
          "text": [
            "[i] svm confidence:  0.9362022994478157\n"
          ],
          "name": "stdout"
        }
      ]
    },
    {
      "cell_type": "code",
      "metadata": {
        "id": "D8Oa-IM1Wlxm",
        "colab_type": "code",
        "colab": {
          "base_uri": "https://localhost:8080/",
          "height": 35
        },
        "outputId": "70798f57-f701-4c61-c77b-d9a6a4fc4c80"
      },
      "source": [
        "# create and train lineal regression model\n",
        "lr = LinearRegression()\n",
        "\n",
        "# train the model\n",
        "lr.fit(x_train, y_train)"
      ],
      "execution_count": 91,
      "outputs": [
        {
          "output_type": "execute_result",
          "data": {
            "text/plain": [
              "LinearRegression(copy_X=True, fit_intercept=True, n_jobs=None, normalize=False)"
            ]
          },
          "metadata": {
            "tags": []
          },
          "execution_count": 91
        }
      ]
    },
    {
      "cell_type": "code",
      "metadata": {
        "id": "vAKtwQpyXCwD",
        "colab_type": "code",
        "colab": {
          "base_uri": "https://localhost:8080/",
          "height": 35
        },
        "outputId": "d3866b1d-d384-4bf9-b265-3a0fe8ac8dec"
      },
      "source": [
        "# testing model: score returns the coefficient of determination R^2 of the prediction\n",
        "# the best possible score is 1.0\n",
        "\n",
        "lr_confidence = lr.score(x_test, y_test)\n",
        "print(\"[i] svm confidence: \", lr_confidence)"
      ],
      "execution_count": 92,
      "outputs": [
        {
          "output_type": "stream",
          "text": [
            "[i] svm confidence:  0.9870585294051567\n"
          ],
          "name": "stdout"
        }
      ]
    },
    {
      "cell_type": "code",
      "metadata": {
        "id": "c1MNL5JDXTMm",
        "colab_type": "code",
        "colab": {
          "base_uri": "https://localhost:8080/",
          "height": 568
        },
        "outputId": "107beeea-9ec4-4112-e1d9-f09b313e2d60"
      },
      "source": [
        "# set x_forcast equal to the last 30 rows of the original data set from Adj. Close column\n",
        "x_forecast = np.array(df.drop(['Prediction'],1))[-forecast_out:]\n",
        "\n",
        "print(x_forecast)"
      ],
      "execution_count": 93,
      "outputs": [
        {
          "output_type": "stream",
          "text": [
            "[[1414.51]\n",
            " [1451.05]\n",
            " [1461.76]\n",
            " [1448.69]\n",
            " [1468.35]\n",
            " [1482.92]\n",
            " [1484.76]\n",
            " [1500.  ]\n",
            " [1521.95]\n",
            " [1511.98]\n",
            " [1512.45]\n",
            " [1493.45]\n",
            " [1500.25]\n",
            " [1523.61]\n",
            " [1537.64]\n",
            " [1545.  ]\n",
            " [1551.86]\n",
            " [1578.89]\n",
            " [1598.39]\n",
            " [1588.18]\n",
            " [1591.  ]\n",
            " [1582.32]\n",
            " [1571.68]\n",
            " [1544.93]\n",
            " [1586.51]\n",
            " [1581.86]\n",
            " [1544.1 ]\n",
            " [1495.56]\n",
            " [1555.86]\n",
            " [1497.05]]\n"
          ],
          "name": "stdout"
        }
      ]
    },
    {
      "cell_type": "code",
      "metadata": {
        "id": "IJ6hEVIxX61-",
        "colab_type": "code",
        "colab": {
          "base_uri": "https://localhost:8080/",
          "height": 256
        },
        "outputId": "d37e7745-2ed3-48a0-ad4f-d49720f9a86c"
      },
      "source": [
        "# print the linear regression model predictions for the next 'n' days\n",
        "lr_prediction = lr.predict(x_forecast)\n",
        "print(lr_prediction)\n",
        "\n",
        "print(\"-\"*70)\n",
        "\n",
        "# print the support vector regressor model predictions for the next 'n' days\n",
        "svm_prediction = svr_rbf.predict(x_forecast)\n",
        "print(svm_prediction)"
      ],
      "execution_count": 94,
      "outputs": [
        {
          "output_type": "stream",
          "text": [
            "[1498.99534772 1537.80407886 1549.17905178 1535.29754888 1556.17821813\n",
            " 1571.65285449 1573.60709821 1589.79333418 1613.10618718 1602.5171601\n",
            " 1603.01634192 1582.8366514  1590.05885643 1614.86925488 1629.7703632\n",
            " 1637.58733805 1644.87326842 1673.58153341 1694.29226842 1683.44833999\n",
            " 1686.4434309  1677.2244986  1665.9238719  1637.51299183 1681.6746514\n",
            " 1676.73593767 1636.63145798 1585.07765913 1649.12162432 1586.66017171]\n",
            "----------------------------------------------------------------------\n",
            "[1053.29798913 1549.94339583  669.43613165 1049.48742576  669.402914\n",
            "  669.402914    669.402914    669.402914    669.402914    669.402914\n",
            "  669.402914    669.402914    669.402914    669.402914    669.402914\n",
            "  669.402914    669.402914    669.402914    669.402914    669.402914\n",
            "  669.402914    669.402914    669.402914    669.402914    669.402914\n",
            "  669.402914    669.402914    669.402914    669.402914    669.402914  ]\n"
          ],
          "name": "stdout"
        }
      ]
    }
  ]
}